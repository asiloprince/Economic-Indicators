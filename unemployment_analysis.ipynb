{
 "cells": [
  {
   "cell_type": "markdown",
   "id": "cd7ed0f3",
   "metadata": {},
   "source": [
    "# Importing all the libraries needed in the analysis"
   ]
  },
  {
   "cell_type": "code",
   "execution_count": null,
   "id": "78964834",
   "metadata": {},
   "outputs": [],
   "source": [
    "# Filter the data for the year 2021\n",
    "df_2021 = df_total_population[['Country Name', '2021']]\n",
    "\n",
    "# Sort the data by the total population in descending order\n",
    "df_2021_sorted = df_2021.sort_values(by='2021', ascending=False)\n",
    "\n",
    "# Set the figure size\n",
    "plt.figure(figsize=(14, 6))\n",
    "\n",
    "# Create the bar chart\n",
    "plt.bar(df_2021_sorted['Country Name'], df_2021_sorted['2021'])\n",
    "\n",
    "# Add text annotations for the population values\n",
    "for i, value in enumerate(df_2021_sorted['2021']):\n",
    "    plt.text(i, value, f'{value:,}', ha='center', va='bottom')\n",
    "\n",
    "# Customize the chart\n",
    "plt.xlabel('Country')\n",
    "plt.ylabel('Population Count')\n",
    "plt.title('Total Population Count by Country (2021)')\n",
    "plt.xticks(rotation=90)\n",
    "\n",
    "# Display the chart\n",
    "plt.show()"
   ]
  },
  {
   "cell_type": "code",
   "execution_count": null,
   "id": "6ca20349",
   "metadata": {},
   "outputs": [
    {
     "ename": "",
     "evalue": "",
     "output_type": "error",
     "traceback": [
      "\u001b[1;31mRunning cells with 'Python 3.11.0 64-bit' requires ipykernel package.\n",
      "\u001b[1;31mRun the following command to install 'ipykernel' into the Python environment. \n",
      "\u001b[1;31mCommand: 'c:/Users/ASUS/AppData/Local/Programs/Python/Python311/python.exe -m pip install ipykernel -U --user --force-reinstall'"
     ]
    }
   ],
   "source": [
    "import numpy as np\n",
    "import pandas as pd\n",
    "import matplotlib.pyplot as plt\n",
    "\n",
    "import seaborn as sns\n",
    "from sklearn.linear_model import LinearRegression"
   ]
  },
  {
   "cell_type": "code",
   "execution_count": null,
   "id": "ca74ea9d",
   "metadata": {},
   "outputs": [
    {
     "ename": "",
     "evalue": "",
     "output_type": "error",
     "traceback": [
      "\u001b[1;31mRunning cells with 'Python 3.11.0 64-bit' requires ipykernel package.\n",
      "\u001b[1;31mRun the following command to install 'ipykernel' into the Python environment. \n",
      "\u001b[1;31mCommand: 'c:/Users/ASUS/AppData/Local/Programs/Python/Python311/python.exe -m pip install ipykernel -U --user --force-reinstall'"
     ]
    }
   ],
   "source": [
    "%matplotlib inline"
   ]
  },
  {
   "cell_type": "code",
   "execution_count": null,
   "id": "e6890237",
   "metadata": {},
   "outputs": [
    {
     "ename": "",
     "evalue": "",
     "output_type": "error",
     "traceback": [
      "\u001b[1;31mRunning cells with 'Python 3.11.0 64-bit' requires ipykernel package.\n",
      "\u001b[1;31mRun the following command to install 'ipykernel' into the Python environment. \n",
      "\u001b[1;31mCommand: 'c:/Users/ASUS/AppData/Local/Programs/Python/Python311/python.exe -m pip install ipykernel -U --user --force-reinstall'"
     ]
    }
   ],
   "source": [
    "df = pd.read_csv('ds/economic_indicators.csv')[:-12]\n"
   ]
  },
  {
   "cell_type": "code",
   "execution_count": null,
   "id": "41216668",
   "metadata": {},
   "outputs": [
    {
     "ename": "",
     "evalue": "",
     "output_type": "error",
     "traceback": [
      "\u001b[1;31mRunning cells with 'Python 3.11.0 64-bit' requires ipykernel package.\n",
      "\u001b[1;31mRun the following command to install 'ipykernel' into the Python environment. \n",
      "\u001b[1;31mCommand: 'c:/Users/ASUS/AppData/Local/Programs/Python/Python311/python.exe -m pip install ipykernel -U --user --force-reinstall'"
     ]
    }
   ],
   "source": [
    "df"
   ]
  },
  {
   "cell_type": "markdown",
   "id": "981686c5",
   "metadata": {},
   "source": [
    "#  Philippines' Unemployment rate from 2000 to 2020"
   ]
  },
  {
   "cell_type": "code",
   "execution_count": null,
   "id": "4322a730",
   "metadata": {},
   "outputs": [
    {
     "ename": "",
     "evalue": "",
     "output_type": "error",
     "traceback": [
      "\u001b[1;31mRunning cells with 'Python 3.11.0 64-bit' requires ipykernel package.\n",
      "\u001b[1;31mRun the following command to install 'ipykernel' into the Python environment. \n",
      "\u001b[1;31mCommand: 'c:/Users/ASUS/AppData/Local/Programs/Python/Python311/python.exe -m pip install ipykernel -U --user --force-reinstall'"
     ]
    }
   ],
   "source": [
    "# Filter the data for the Philippines\n",
    "ph_unemployment = df[(df['Country Name'] == 'Philippines') & (df['Series Code'] == 'SL.UEM.TOTL.ZS')]\n",
    "\n",
    "years = ph_unemployment.columns[4:].tolist()\n",
    "unemployment = ph_unemployment.values.flatten()[4:]\n",
    "\n",
    "fig, ax = plt.subplots(figsize=(12, 6))  # Adjust the size (width, height)\n",
    "\n",
    "# Plot the line chart\n",
    "ax.plot(years, unemployment, marker='o', linestyle='-', color='b')\n",
    "\n",
    "# Customize the plot\n",
    "ax.set_xlabel('Year')\n",
    "ax.set_ylabel('Unemployment (%)')\n",
    "ax.set_title('Unemployment in the Philippines')\n",
    "ax.grid(True)\n",
    "\n",
    "# Display the plot\n",
    "plt.show()\n",
    "\n",
    "\n"
   ]
  },
  {
   "cell_type": "code",
   "execution_count": null,
   "id": "5185c408",
   "metadata": {},
   "outputs": [
    {
     "ename": "",
     "evalue": "",
     "output_type": "error",
     "traceback": [
      "\u001b[1;31mRunning cells with 'Python 3.11.0 64-bit' requires ipykernel package.\n",
      "\u001b[1;31mRun the following command to install 'ipykernel' into the Python environment. \n",
      "\u001b[1;31mCommand: 'c:/Users/ASUS/AppData/Local/Programs/Python/Python311/python.exe -m pip install ipykernel -U --user --force-reinstall'"
     ]
    }
   ],
   "source": [
    "total_population = df[df['Series Code'] == 'SP.POP.TOTL'].copy()\n",
    "df_total_population = total_population.copy()\n",
    "df_total_population.reset_index(drop=True, inplace=True)\n",
    "df_total_population.describe()"
   ]
  },
  {
   "cell_type": "code",
   "execution_count": null,
   "id": "f88e64f6",
   "metadata": {},
   "outputs": [
    {
     "ename": "",
     "evalue": "",
     "output_type": "error",
     "traceback": [
      "\u001b[1;31mRunning cells with 'Python 3.11.0 64-bit' requires ipykernel package.\n",
      "\u001b[1;31mRun the following command to install 'ipykernel' into the Python environment. \n",
      "\u001b[1;31mCommand: 'c:/Users/ASUS/AppData/Local/Programs/Python/Python311/python.exe -m pip install ipykernel -U --user --force-reinstall'"
     ]
    }
   ],
   "source": [
    "df_total_population.head()"
   ]
  },
  {
   "cell_type": "code",
   "execution_count": null,
   "id": "d74666b3",
   "metadata": {},
   "outputs": [
    {
     "ename": "",
     "evalue": "",
     "output_type": "error",
     "traceback": [
      "\u001b[1;31mRunning cells with 'Python 3.11.0 64-bit' requires ipykernel package.\n",
      "\u001b[1;31mRun the following command to install 'ipykernel' into the Python environment. \n",
      "\u001b[1;31mCommand: 'c:/Users/ASUS/AppData/Local/Programs/Python/Python311/python.exe -m pip install ipykernel -U --user --force-reinstall'"
     ]
    }
   ],
   "source": [
    "asean_countries = ['Indonesia', 'Malaysia', 'Philippines', 'Singapore', 'Thailand', 'Vietnam', 'Lao PDR', 'Brunei Darussalam', 'Myanmar', 'Cambodia']\n",
    "\n",
    "asean_data = df_total_population[df_total_population['Country Name'].isin(asean_countries)]\n",
    "\n",
    "# Calculate total population in year 2021\n",
    "total_population_2021 = asean_data['2021'].sum()\n",
    "\n",
    "# Calculate percentage for each country\n",
    "population_percentages = asean_data['2021'] / total_population_2021 * 100\n",
    "# pie chart\n",
    "fig, ax = plt.subplots(figsize=(8, 8))\n",
    "patches, texts, autotexts = ax.pie(population_percentages, labels=asean_data['Country Name'],\n",
    "                                   autopct='%1.1f%%', startangle=90, textprops={'fontsize': 9})\n",
    "\n",
    "\n",
    "ax.text(0, 0, f'Total Population:\\n{total_population_2021:,}', fontsize=14, ha='center', color='white', weight='bold')\n",
    "\n",
    "\n",
    "ax.axis('equal')\n",
    "\n",
    "\n",
    "legend = ax.legend(patches, asean_data['Country Name'], loc='upper left', bbox_to_anchor=(1.0, 1.0))\n",
    "plt.setp(legend.get_title(), fontsize=8)  # Adjust legend title font size\n",
    "\n",
    "# Title\n",
    "plt.title('Population Composition of ASEAN Countries (2021)')\n",
    "\n",
    "# Adjust layout\n",
    "plt.subplots_adjust(left=0.1, right=0.9, top=0.8, bottom=0.1)\n",
    "plt.show()"
   ]
  },
  {
   "cell_type": "code",
   "execution_count": null,
   "id": "41ae924a",
   "metadata": {},
   "outputs": [
    {
     "ename": "",
     "evalue": "",
     "output_type": "error",
     "traceback": [
      "\u001b[1;31mRunning cells with 'Python 3.11.0 64-bit' requires ipykernel package.\n",
      "\u001b[1;31mRun the following command to install 'ipykernel' into the Python environment. \n",
      "\u001b[1;31mCommand: 'c:/Users/ASUS/AppData/Local/Programs/Python/Python311/python.exe -m pip install ipykernel -U --user --force-reinstall'"
     ]
    }
   ],
   "source": [
    "years = df_total_population.columns[4:].astype(int)\n",
    "population_values = df_total_population.iloc[:, 4:].values\n",
    "\n",
    "# Create a figure and axis for the line chart with specific size\n",
    "fig, ax = plt.subplots(figsize=(12, 6))\n",
    "\n",
    "# Plot the line chart\n",
    "for i in range(population_values.shape[0]):\n",
    "    country_name = df_total_population['Country Name'].iloc[i]\n",
    "    ax.plot(years, population_values[i], label=country_name)\n",
    "\n",
    "# Set labels and title\n",
    "ax.set_xlabel('Year')\n",
    "ax.set_ylabel('Population')\n",
    "ax.set_title('Population Trend')\n",
    "\n",
    "# Add a legend\n",
    "ax.legend()\n",
    "\n",
    "plt.show()"
   ]
  },
  {
   "cell_type": "markdown",
   "id": "c8c57d74",
   "metadata": {},
   "source": [
    "# Comparing the unemployment rates across different countries in year 2020."
   ]
  },
  {
   "cell_type": "code",
   "execution_count": null,
   "id": "206bbb2e",
   "metadata": {},
   "outputs": [
    {
     "ename": "",
     "evalue": "",
     "output_type": "error",
     "traceback": [
      "\u001b[1;31mRunning cells with 'Python 3.11.0 64-bit' requires ipykernel package.\n",
      "\u001b[1;31mRun the following command to install 'ipykernel' into the Python environment. \n",
      "\u001b[1;31mCommand: 'c:/Users/ASUS/AppData/Local/Programs/Python/Python311/python.exe -m pip install ipykernel -U --user --force-reinstall'"
     ]
    }
   ],
   "source": [
    "asean_countries = ['Indonesia', 'Malaysia', 'Philippines', 'Singapore', 'Thailand', 'Vietnam','Lao PDR','Brunei Darussalam','Myanmar','Cambodia']\n",
    "\n",
    "# Filter the DataFrame for ASEAN member countries and unemployment data\n",
    "asean_unemployment = df[df['Country Name'].isin(asean_countries) & (df['Series Code'] == 'SL.UEM.TOTL.ZS')]\n",
    "\n",
    "# Iterate over the ASEAN countries and plot the unemployment data\n",
    "fig, ax = plt.subplots(figsize=(12, 6))  # Adjust the size (width, height)\n",
    "\n",
    "for country in asean_countries:\n",
    "    country_data = asean_unemployment[asean_unemployment['Country Name'] == country]\n",
    "    years = country_data.columns[4:].tolist()\n",
    "    unemployment = country_data.values.flatten()[4:]\n",
    "    ax.plot(years, unemployment, label=country)\n",
    "\n",
    "# Customize the plot\n",
    "ax.set_xlabel('Year')\n",
    "ax.set_ylabel('Unemployment (%)')\n",
    "ax.set_title('Unemployment in ASEAN Member Countries')\n",
    "ax.legend()\n",
    "ax.grid(True)\n",
    "\n",
    "# Display the plot\n",
    "plt.show()"
   ]
  },
  {
   "cell_type": "code",
   "execution_count": null,
   "id": "f6ce15c8",
   "metadata": {},
   "outputs": [
    {
     "ename": "",
     "evalue": "",
     "output_type": "error",
     "traceback": [
      "\u001b[1;31mRunning cells with 'Python 3.11.0 64-bit' requires ipykernel package.\n",
      "\u001b[1;31mRun the following command to install 'ipykernel' into the Python environment. \n",
      "\u001b[1;31mCommand: 'c:/Users/ASUS/AppData/Local/Programs/Python/Python311/python.exe -m pip install ipykernel -U --user --force-reinstall'"
     ]
    }
   ],
   "source": [
    "unemployment = df[df['Series Code'] == 'SL.UEM.TOTL.ZS'].copy()\n",
    "unemployment_df = unemployment.copy()\n",
    "unemployment_df.reset_index(drop=True, inplace=True)"
   ]
  },
  {
   "cell_type": "code",
   "execution_count": null,
   "id": "02e133ea",
   "metadata": {},
   "outputs": [
    {
     "ename": "",
     "evalue": "",
     "output_type": "error",
     "traceback": [
      "\u001b[1;31mRunning cells with 'Python 3.11.0 64-bit' requires ipykernel package.\n",
      "\u001b[1;31mRun the following command to install 'ipykernel' into the Python environment. \n",
      "\u001b[1;31mCommand: 'c:/Users/ASUS/AppData/Local/Programs/Python/Python311/python.exe -m pip install ipykernel -U --user --force-reinstall'"
     ]
    }
   ],
   "source": [
    "unemployment_df"
   ]
  },
  {
   "cell_type": "markdown",
   "id": "50b85503",
   "metadata": {},
   "source": [
    "# Highlight variations in unemployment rates across countries and years"
   ]
  },
  {
   "cell_type": "code",
   "execution_count": null,
   "id": "c561d2a9",
   "metadata": {},
   "outputs": [
    {
     "ename": "",
     "evalue": "",
     "output_type": "error",
     "traceback": [
      "\u001b[1;31mRunning cells with 'Python 3.11.0 64-bit' requires ipykernel package.\n",
      "\u001b[1;31mRun the following command to install 'ipykernel' into the Python environment. \n",
      "\u001b[1;31mCommand: 'c:/Users/ASUS/AppData/Local/Programs/Python/Python311/python.exe -m pip install ipykernel -U --user --force-reinstall'"
     ]
    }
   ],
   "source": [
    "data_heatmap = unemployment_df.iloc[:, 4:]\n",
    "\n",
    "# figure size\n",
    "plt.figure(figsize=(14, 6))\n",
    "\n",
    "# Create the heatmap\n",
    "sns.heatmap(data_heatmap, cmap='YlGnBu')\n",
    "\n",
    "# Set the title and labels\n",
    "plt.title('Unemployment Rates Heatmap')\n",
    "plt.xlabel('Year')\n",
    "plt.ylabel('Country')\n",
    "\n",
    "# Display the heatmap\n",
    "plt.show()"
   ]
  },
  {
   "cell_type": "code",
   "execution_count": null,
   "id": "86a12d20",
   "metadata": {},
   "outputs": [
    {
     "ename": "",
     "evalue": "",
     "output_type": "error",
     "traceback": [
      "\u001b[1;31mRunning cells with 'Python 3.11.0 64-bit' requires ipykernel package.\n",
      "\u001b[1;31mRun the following command to install 'ipykernel' into the Python environment. \n",
      "\u001b[1;31mCommand: 'c:/Users/ASUS/AppData/Local/Programs/Python/Python311/python.exe -m pip install ipykernel -U --user --force-reinstall'"
     ]
    }
   ],
   "source": [
    "data_2020 = unemployment_df['2020']\n",
    "\n",
    "# Set the country as the x-axis labels\n",
    "countries = unemployment_df['Country Name']\n",
    "\n",
    "# Plotting bar chart\n",
    "plt.figure(figsize=(10, 5))  # size (w,h)\n",
    "plt.bar(countries, data_2020)\n",
    "\n",
    "# title and labels\n",
    "plt.title('Unemployment Rates in 2020')\n",
    "plt.xlabel('Country')\n",
    "plt.ylabel('Unemployment Rate')\n",
    "\n",
    "# for better readability/ vertical\n",
    "plt.xticks(rotation=90)\n",
    "\n",
    "plt.show()"
   ]
  },
  {
   "cell_type": "code",
   "execution_count": null,
   "id": "2faadacc",
   "metadata": {},
   "outputs": [
    {
     "ename": "",
     "evalue": "",
     "output_type": "error",
     "traceback": [
      "\u001b[1;31mRunning cells with 'Python 3.11.0 64-bit' requires ipykernel package.\n",
      "\u001b[1;31mRun the following command to install 'ipykernel' into the Python environment. \n",
      "\u001b[1;31mCommand: 'c:/Users/ASUS/AppData/Local/Programs/Python/Python311/python.exe -m pip install ipykernel -U --user --force-reinstall'"
     ]
    }
   ],
   "source": [
    "gdp_per_capita = df[df['Series Code'] == 'NY.GDP.PCAP.KD.ZG'].copy()\n",
    "df_gdp_per_capita = gdp_per_capita.copy()\n",
    "df_gdp_per_capita.reset_index(drop=True, inplace=True)"
   ]
  },
  {
   "cell_type": "code",
   "execution_count": null,
   "id": "36609e1d",
   "metadata": {},
   "outputs": [
    {
     "ename": "",
     "evalue": "",
     "output_type": "error",
     "traceback": [
      "\u001b[1;31mRunning cells with 'Python 3.11.0 64-bit' requires ipykernel package.\n",
      "\u001b[1;31mRun the following command to install 'ipykernel' into the Python environment. \n",
      "\u001b[1;31mCommand: 'c:/Users/ASUS/AppData/Local/Programs/Python/Python311/python.exe -m pip install ipykernel -U --user --force-reinstall'"
     ]
    }
   ],
   "source": [
    "df_gdp_per_capita"
   ]
  },
  {
   "cell_type": "code",
   "execution_count": null,
   "id": "0fd86703",
   "metadata": {},
   "outputs": [
    {
     "ename": "",
     "evalue": "",
     "output_type": "error",
     "traceback": [
      "\u001b[1;31mRunning cells with 'Python 3.11.0 64-bit' requires ipykernel package.\n",
      "\u001b[1;31mRun the following command to install 'ipykernel' into the Python environment. \n",
      "\u001b[1;31mCommand: 'c:/Users/ASUS/AppData/Local/Programs/Python/Python311/python.exe -m pip install ipykernel -U --user --force-reinstall'"
     ]
    }
   ],
   "source": [
    "#GDP PER CAPITA IN YEAR 2020\n",
    "\n",
    "data_2020 = df_gdp_per_capita['2020']\n",
    "\n",
    "# Set the country as the x-axis labels\n",
    "countries = df_gdp_per_capita['Country Name']\n",
    "\n",
    "# Plotting bar chart\n",
    "plt.figure(figsize=(10, 5))  # size (w,h)\n",
    "plt.bar(countries, data_2020, color =\"indigo\")\n",
    "\n",
    "# title and labels\n",
    "plt.title('gdp growth per capita in 2020')\n",
    "plt.xlabel('Country' )\n",
    "plt.ylabel('gdp growth per capita')\n",
    "\n",
    "# for better readability/ vertical\n",
    "plt.xticks(rotation=90)\n",
    "\n",
    "plt.grid()\n",
    "plt.show()"
   ]
  },
  {
   "cell_type": "code",
   "execution_count": null,
   "id": "64ca407b",
   "metadata": {},
   "outputs": [
    {
     "ename": "",
     "evalue": "",
     "output_type": "error",
     "traceback": [
      "\u001b[1;31mRunning cells with 'Python 3.11.0 64-bit' requires ipykernel package.\n",
      "\u001b[1;31mRun the following command to install 'ipykernel' into the Python environment. \n",
      "\u001b[1;31mCommand: 'c:/Users/ASUS/AppData/Local/Programs/Python/Python311/python.exe -m pip install ipykernel -U --user --force-reinstall'"
     ]
    }
   ],
   "source": [
    "years = df_gdp_per_capita.columns[4:]  # start from the 5th column year\n",
    "values = df_gdp_per_capita.loc[df_gdp_per_capita['Country Name'] == 'Philippines', years].values.flatten()\n",
    "\n",
    "fig, ax = plt.subplots(figsize=(25, 6))  # Adjust the size (width, height)\n",
    "\n",
    "# Plot the line, o for dot, - for solid line, b for color blue\n",
    "ax.plot(years, values, marker='o', linestyle='-', color='b')\n",
    "\n",
    "# Customize the plot\n",
    "ax.set_xlabel('Year')\n",
    "ax.set_ylabel('gdp per capita (%)')\n",
    "ax.set_title('gdp per capita in Philippines in Year 2000-2020')\n",
    "ax.grid(True)\n",
    "\n",
    "plt.show()"
   ]
  },
  {
   "cell_type": "code",
   "execution_count": null,
   "id": "e2227534",
   "metadata": {},
   "outputs": [
    {
     "ename": "",
     "evalue": "",
     "output_type": "error",
     "traceback": [
      "\u001b[1;31mRunning cells with 'Python 3.11.0 64-bit' requires ipykernel package.\n",
      "\u001b[1;31mRun the following command to install 'ipykernel' into the Python environment. \n",
      "\u001b[1;31mCommand: 'c:/Users/ASUS/AppData/Local/Programs/Python/Python311/python.exe -m pip install ipykernel -U --user --force-reinstall'"
     ]
    }
   ],
   "source": [
    "#\n",
    "fig = plt.figure(figsize=(20, 10))# Adjust the size (width, height)\n",
    "for index, row in df_gdp_per_capita.iterrows():\n",
    "    country_name = row['Country Name']\n",
    "    values = row[4:]  #start from the 5th column\n",
    "    plt.plot(years, values, label=country_name, marker='o')\n",
    "\n",
    "# Set title and labels for the plot\n",
    "plt.title('GDP Per Capita in ASEAN Member Countries')\n",
    "plt.xlabel('Year')\n",
    "plt.ylabel('GDP Per Capita (%)')\n",
    "\n",
    "# Create a legend to distinguish the countries.\n",
    "plt.legend()\n",
    "plt.grid()\n",
    "# Display the plot\n",
    "plt.show()"
   ]
  },
  {
   "cell_type": "code",
   "execution_count": null,
   "id": "2979e549",
   "metadata": {},
   "outputs": [
    {
     "ename": "",
     "evalue": "",
     "output_type": "error",
     "traceback": [
      "\u001b[1;31mRunning cells with 'Python 3.11.0 64-bit' requires ipykernel package.\n",
      "\u001b[1;31mRun the following command to install 'ipykernel' into the Python environment. \n",
      "\u001b[1;31mCommand: 'c:/Users/ASUS/AppData/Local/Programs/Python/Python311/python.exe -m pip install ipykernel -U --user --force-reinstall'"
     ]
    }
   ],
   "source": [
    "data_2020 = df_gdp_per_capita['2020']\n",
    "labels = df_gdp_per_capita['Country Name']\n",
    "\n",
    "fig = plt.figure(figsize=(20, 10))\n",
    "plt.scatter(labels, data_2020)\n",
    "\n",
    "data_2019 = df_gdp_per_capita['2019']\n",
    "labels = df_gdp_per_capita['Country Name']\n",
    "plt.scatter(labels, data_2019)\n",
    "\n",
    "data_2018 = df_gdp_per_capita['2018']\n",
    "labels = df_gdp_per_capita['Country Name']\n",
    "plt.scatter(labels, data_2018)\n",
    "\n",
    "plt.title('GDP Per Capita in ASEAN Member Countries in Year 2018 - 2020')\n",
    "plt.xlabel('Country')\n",
    "plt.ylabel('GDP Per Capita (%)')\n",
    "plt.legend([\"2020\", \"2019\", \"2018\"], loc =\"upper left\")\n",
    "plt.grid()\n",
    "plt.show()\n"
   ]
  },
  {
   "cell_type": "code",
   "execution_count": null,
   "id": "1c35e67f",
   "metadata": {},
   "outputs": [
    {
     "ename": "",
     "evalue": "",
     "output_type": "error",
     "traceback": [
      "\u001b[1;31mRunning cells with 'Python 3.11.0 64-bit' requires ipykernel package.\n",
      "\u001b[1;31mRun the following command to install 'ipykernel' into the Python environment. \n",
      "\u001b[1;31mCommand: 'c:/Users/ASUS/AppData/Local/Programs/Python/Python311/python.exe -m pip install ipykernel -U --user --force-reinstall'"
     ]
    }
   ],
   "source": []
  },
  {
   "cell_type": "code",
   "execution_count": null,
   "id": "92d3687b",
   "metadata": {},
   "outputs": [
    {
     "ename": "",
     "evalue": "",
     "output_type": "error",
     "traceback": [
      "\u001b[1;31mRunning cells with 'Python 3.11.0 64-bit' requires ipykernel package.\n",
      "\u001b[1;31mRun the following command to install 'ipykernel' into the Python environment. \n",
      "\u001b[1;31mCommand: 'c:/Users/ASUS/AppData/Local/Programs/Python/Python311/python.exe -m pip install ipykernel -U --user --force-reinstall'"
     ]
    }
   ],
   "source": [
    "gdp_growth= df[df['Series Code'] == 'NY.GDP.MKTP.KD.ZG'].copy()\n",
    "gdp_growth_df = gdp_growth.copy()\n",
    "gdp_growth_df.reset_index(drop=True, inplace=True)"
   ]
  },
  {
   "cell_type": "code",
   "execution_count": null,
   "id": "b92ed6ea",
   "metadata": {},
   "outputs": [
    {
     "ename": "",
     "evalue": "",
     "output_type": "error",
     "traceback": [
      "\u001b[1;31mRunning cells with 'Python 3.11.0 64-bit' requires ipykernel package.\n",
      "\u001b[1;31mRun the following command to install 'ipykernel' into the Python environment. \n",
      "\u001b[1;31mCommand: 'c:/Users/ASUS/AppData/Local/Programs/Python/Python311/python.exe -m pip install ipykernel -U --user --force-reinstall'"
     ]
    }
   ],
   "source": [
    "gdp_growth_df.head()"
   ]
  },
  {
   "cell_type": "code",
   "execution_count": null,
   "id": "1eb815d4",
   "metadata": {},
   "outputs": [
    {
     "ename": "",
     "evalue": "",
     "output_type": "error",
     "traceback": [
      "\u001b[1;31mRunning cells with 'Python 3.11.0 64-bit' requires ipykernel package.\n",
      "\u001b[1;31mRun the following command to install 'ipykernel' into the Python environment. \n",
      "\u001b[1;31mCommand: 'c:/Users/ASUS/AppData/Local/Programs/Python/Python311/python.exe -m pip install ipykernel -U --user --force-reinstall'"
     ]
    }
   ],
   "source": [
    "#\n",
    "fig = plt.figure(figsize=(20, 10))# Adjust the size (width, height)\n",
    "for index, row in gdp_growth_df.iterrows():\n",
    "    country_name = row['Country Name']\n",
    "    values = row[4:]  #start from the 5th column\n",
    "    plt.plot(years, values, label=country_name, marker='o')\n",
    "\n",
    "# Set title and labels for the plot\n",
    "plt.title('GDP growth in ASEAN Member Countries in 2000-2020')\n",
    "plt.xlabel('Year')\n",
    "plt.ylabel('GDP growth (%)')\n",
    "\n",
    "# Create a legend to distinguish the countries.\n",
    "plt.legend()\n",
    "plt.grid()\n",
    "# Display the plot\n",
    "plt.show()"
   ]
  },
  {
   "cell_type": "code",
   "execution_count": null,
   "id": "450f9a33",
   "metadata": {},
   "outputs": [
    {
     "ename": "",
     "evalue": "",
     "output_type": "error",
     "traceback": [
      "\u001b[1;31mRunning cells with 'Python 3.11.0 64-bit' requires ipykernel package.\n",
      "\u001b[1;31mRun the following command to install 'ipykernel' into the Python environment. \n",
      "\u001b[1;31mCommand: 'c:/Users/ASUS/AppData/Local/Programs/Python/Python311/python.exe -m pip install ipykernel -U --user --force-reinstall'"
     ]
    }
   ],
   "source": [
    "# linear regression \n",
    "# subject to change as we plan to extend the year from world data bank as our data set overfit for mulitple regression"
   ]
  },
  {
   "cell_type": "code",
   "execution_count": null,
   "id": "8cb93762",
   "metadata": {},
   "outputs": [
    {
     "ename": "",
     "evalue": "",
     "output_type": "error",
     "traceback": [
      "\u001b[1;31mRunning cells with 'Python 3.11.0 64-bit' requires ipykernel package.\n",
      "\u001b[1;31mRun the following command to install 'ipykernel' into the Python environment. \n",
      "\u001b[1;31mCommand: 'c:/Users/ASUS/AppData/Local/Programs/Python/Python311/python.exe -m pip install ipykernel -U --user --force-reinstall'"
     ]
    }
   ],
   "source": [
    "countries = df['Country Name'].unique()\n",
    "\n",
    "# Set the size of the subplots\n",
    "fig, axes = plt.subplots(5, 2, figsize=(12, 20))\n",
    "\n",
    "# Iterate over each country and plot the linear regression\n",
    "for i, country in enumerate(countries):\n",
    "    # Calculate the subplot position\n",
    "    row = i % 5\n",
    "    col = i // 5\n",
    "\n",
    "    # Filter the data for 'GDP growth (annual %)' and the current country\n",
    "    gdp_growth_data = df[(df['Series Name'] == 'GDP growth (annual %)') & (df['Country Name'] == country)]\n",
    "\n",
    "    # Prepare the predictor variable (Year) and target variable (GDP growth)\n",
    "    years = df.columns[4:].astype(int)\n",
    "    years = np.array(years)  # Convert to a NumPy array\n",
    "    gdp_growth_values = gdp_growth_data.iloc[:, 4:].values.flatten()\n",
    "\n",
    "    # Create and fit the linear regression model\n",
    "    regression_model = LinearRegression()\n",
    "    regression_model.fit(years.reshape(-1, 1), gdp_growth_values)\n",
    "\n",
    "    # Generate predictions using the linear regression model\n",
    "    predictions = regression_model.predict(years.reshape(-1, 1))\n",
    "\n",
    "    # Plot the linear regression for the current country\n",
    "    ax = axes[row, col]\n",
    "    ax.scatter(years, gdp_growth_values, color='b', label='Actual')\n",
    "    ax.plot(years, predictions, color='r', label='Linear Regression')\n",
    "    ax.set_xlabel('Year')\n",
    "    ax.set_ylabel('GDP Growth (annual %)')\n",
    "    ax.set_xticks(years[::2].astype(int))\n",
    "    ax.set_title(f'Linear Regression - GDP Growth over Time ({country})')\n",
    "    ax.legend()\n",
    "\n",
    " \n",
    "\n",
    "# Adjust the spacing between subplots\n",
    "plt.tight_layout()\n",
    "\n",
    "# Show the plots\n",
    "plt.show()"
   ]
  },
  {
   "cell_type": "code",
   "execution_count": null,
   "id": "981f9563",
   "metadata": {},
   "outputs": [
    {
     "ename": "",
     "evalue": "",
     "output_type": "error",
     "traceback": [
      "\u001b[1;31mRunning cells with 'Python 3.11.0 64-bit' requires ipykernel package.\n",
      "\u001b[1;31mRun the following command to install 'ipykernel' into the Python environment. \n",
      "\u001b[1;31mCommand: 'c:/Users/ASUS/AppData/Local/Programs/Python/Python311/python.exe -m pip install ipykernel -U --user --force-reinstall'"
     ]
    }
   ],
   "source": []
  }
 ],
 "metadata": {
  "kernelspec": {
   "display_name": "Python 3.11.0 64-bit",
   "language": "python",
   "name": "python3"
  },
  "language_info": {
   "codemirror_mode": {
    "name": "ipython",
    "version": 3
   },
   "file_extension": ".py",
   "mimetype": "text/x-python",
   "name": "python",
   "nbconvert_exporter": "python",
   "pygments_lexer": "ipython3",
   "version": "3.11.0"
  },
  "vscode": {
   "interpreter": {
    "hash": "318f2c383d48220c821fefd227250c35bb828f95042f5889a5ad1704b1baf79c"
   }
  }
 },
 "nbformat": 4,
 "nbformat_minor": 5
}
